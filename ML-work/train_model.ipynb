{
 "cells": [
  {
   "cell_type": "code",
   "execution_count": 1,
   "id": "7d4b00b8-c689-4b24-9db2-8fad87c9d4dd",
   "metadata": {},
   "outputs": [],
   "source": [
    "# train_model.py\n",
    "\n",
    "import pandas as pd\n",
    "from sklearn.feature_extraction.text import TfidfVectorizer\n",
    "import pickle\n",
    "\n",
    "# Sample data (replace this with real data or use database in production)\n",
    "data = {\n",
    "    'driver_id': [1, 2, 3, 4, 5],\n",
    "    'review': [\n",
    "        'The ride was smooth and comfortable.',\n",
    "        'Car was clean, but bumpy ride.',\n",
    "        'Very safe and respectful driver.',\n",
    "        'Unfriendly, the ride was fast.',\n",
    "        'Excellent service, comfortable and clean car.'\n",
    "    ]\n",
    "}\n",
    "\n",
    "# Create DataFrame\n",
    "df = pd.DataFrame(data)\n",
    "\n",
    "# Create and train the TF-IDF Vectorizer\n",
    "vectorizer = TfidfVectorizer()\n",
    "X = vectorizer.fit_transform(df['review'])\n",
    "\n",
    "# Save the trained vectorizer as a pickle file\n",
    "with open('vectorizer.pkl', 'wb') as f:\n",
    "    pickle.dump(vectorizer, f)\n",
    "\n",
    "# This saves the trained model so it can be loaded later for predictions\n"
   ]
  },
  {
   "cell_type": "code",
   "execution_count": 2,
   "id": "31b515e3-6fa3-4688-afbe-717150aacb72",
   "metadata": {},
   "outputs": [
    {
     "ename": "IntegrityError",
     "evalue": "UNIQUE constraint failed: reviews.driver_id, reviews.review",
     "output_type": "error",
     "traceback": [
      "\u001b[1;31m---------------------------------------------------------------------------\u001b[0m",
      "\u001b[1;31mIntegrityError\u001b[0m                            Traceback (most recent call last)",
      "Cell \u001b[1;32mIn[2], line 18\u001b[0m\n\u001b[0;32m     15\u001b[0m conn\u001b[38;5;241m.\u001b[39mcommit()\n\u001b[0;32m     17\u001b[0m \u001b[38;5;66;03m# Add a sample review\u001b[39;00m\n\u001b[1;32m---> 18\u001b[0m \u001b[43mcursor\u001b[49m\u001b[38;5;241;43m.\u001b[39;49m\u001b[43mexecute\u001b[49m\u001b[43m(\u001b[49m\u001b[38;5;124;43m\"\u001b[39;49m\u001b[38;5;124;43mINSERT INTO reviews (driver_id, review) VALUES (1, \u001b[39;49m\u001b[38;5;124;43m'\u001b[39;49m\u001b[38;5;124;43mThe ride was smooth and comfortable\u001b[39;49m\u001b[38;5;124;43m'\u001b[39;49m\u001b[38;5;124;43m)\u001b[39;49m\u001b[38;5;124;43m\"\u001b[39;49m\u001b[43m)\u001b[49m\n\u001b[0;32m     19\u001b[0m conn\u001b[38;5;241m.\u001b[39mcommit()\n\u001b[0;32m     21\u001b[0m \u001b[38;5;28mprint\u001b[39m(\u001b[38;5;124m\"\u001b[39m\u001b[38;5;124mDatabase and table created successfully!\u001b[39m\u001b[38;5;124m\"\u001b[39m)\n",
      "\u001b[1;31mIntegrityError\u001b[0m: UNIQUE constraint failed: reviews.driver_id, reviews.review"
     ]
    }
   ],
   "source": [
    "import sqlite3\n",
    "\n",
    "# Connect to SQLite database\n",
    "conn = sqlite3.connect('driver_reviews.db')\n",
    "cursor = conn.cursor()\n",
    "\n",
    "# Create table to store reviews\n",
    "cursor.execute(\"\"\"\n",
    "CREATE TABLE IF NOT EXISTS reviews (\n",
    "    driver_id INTEGER,\n",
    "    review TEXT,\n",
    "    PRIMARY KEY (driver_id, review)\n",
    ");\n",
    "\"\"\")\n",
    "conn.commit()\n",
    "\n",
    "# Add a sample review\n",
    "cursor.execute(\"INSERT INTO reviews (driver_id, review) VALUES (1, 'The ride was smooth and comfortable')\")\n",
    "conn.commit()\n",
    "\n",
    "print(\"Database and table created successfully!\")\n"
   ]
  },
  {
   "cell_type": "code",
   "execution_count": 1,
   "id": "f0afbfd7-d711-49fc-a283-5c0adc2fa8e5",
   "metadata": {},
   "outputs": [
    {
     "name": "stdout",
     "output_type": "stream",
     "text": [
      "Database and table created successfully!\n"
     ]
    }
   ],
   "source": [
    "import sqlite3\n",
    "\n",
    "# Connect to SQLite database\n",
    "conn = sqlite3.connect('driver_reviews.db')\n",
    "cursor = conn.cursor()\n",
    "\n",
    "# Drop the existing table if it exists\n",
    "cursor.execute(\"DROP TABLE IF EXISTS reviews\")\n",
    "\n",
    "# Create table without unique constraint\n",
    "cursor.execute(\"\"\"\n",
    "CREATE TABLE IF NOT EXISTS reviews (\n",
    "    driver_id INTEGER,\n",
    "    review TEXT\n",
    ");\n",
    "\"\"\")\n",
    "conn.commit()\n",
    "\n",
    "# Add a sample review\n",
    "cursor.execute(\"INSERT INTO reviews (driver_id, review) VALUES (1, 'The ride was smooth and comfortable')\")\n",
    "conn.commit()\n",
    "\n",
    "print(\"Database and table created successfully!\")\n"
   ]
  },
  {
   "cell_type": "code",
   "execution_count": null,
   "id": "24c1876b-bd55-49bf-bb78-1c5ee961cf8f",
   "metadata": {},
   "outputs": [],
   "source": []
  }
 ],
 "metadata": {
  "kernelspec": {
   "display_name": "Python 3 (ipykernel)",
   "language": "python",
   "name": "python3"
  },
  "language_info": {
   "codemirror_mode": {
    "name": "ipython",
    "version": 3
   },
   "file_extension": ".py",
   "mimetype": "text/x-python",
   "name": "python",
   "nbconvert_exporter": "python",
   "pygments_lexer": "ipython3",
   "version": "3.13.2"
  }
 },
 "nbformat": 4,
 "nbformat_minor": 5
}
